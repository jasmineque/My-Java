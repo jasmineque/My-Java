{
 "cells": [
  {
   "cell_type": "markdown",
   "metadata": {},
   "source": [
    "# Kontrollfragen 'statische Methoden'"
   ]
  },
  {
   "cell_type": "markdown",
   "metadata": {},
   "source": [
    "**1. Warum gibt es Methoden (in anderen Sprachen Funktionen, Prozeduren)?**\n",
    "\n",
    "In objektorientierten Programmen interagieren zur Laufzeit Objekte miteinander und senden sich gegenseitig Nachrichten als Aufforderung, etwas zu machen. Diese Aufforderungen resultieren in einem Methodenaufruf, in dem Anweisungen stehen, die dann ausgeführt werden. Das Angebot eines Objekts, also das, was es \"kann\", wird in Java durch Methoden ausgedrückt."
   ]
  },
  {
   "cell_type": "markdown",
   "metadata": {},
   "source": [
    "**2. Woraus besteht jede statische Methode (Name, Parameterliste...)?**\n",
    "\n",
    "Eine Methode setzt sich aus mehreren Bestandteilen zusammen. Dazu gehören der *Methodenkopf* (kurz *Kopf*) und der *Methodenrumpf* (kurz *Rumpf*). Der Kopf besteht aus einem *Rückgabetyp* (auch *Ergebnistyp* genannt), dem *Methodennamen* und einer optionalen *Parameterliste*.\n",
    "\n",
    "Statische Methoden müssen explizit mit dem Schlüsselwort `static` kenntlich gemacht werden. Fehlt der Modifizierer `static`, so deklarieren wir damit eine Objektmethode, die wir nur aufrufen können, wenn wir vorher ein Objekt angelegt haben."
   ]
  },
  {
   "cell_type": "markdown",
   "metadata": {},
   "source": [
    "**3. Was ist eine Methoden-Signatur?**\n",
    "\n",
    "Der Methodenname und die Parameterliste bestimmen die Signatur einer Methode; der Rückgabetyp und Ausnahmen gehören nicht dazu."
   ]
  },
  {
   "cell_type": "markdown",
   "metadata": {},
   "source": [
    "**4. Was ist eine lokale Variable? Wo ist sie gültig? Soll sie initialisiert werden?**\n",
    "\n",
    "Die folgenden 3 Variablen-Typen gibt es in Java:\n",
    "\n",
    "*Lokale Variablen* – diese existieren nur lokal, etwa innerhalb einer Methode oder einer Block-Anweisung.\n",
    "*Klassen-Variablen* – existieren auch wenn kein Objekt vorher instanziert wurde, sie werden durch die Klassendefinition festgelegt.\n",
    "*Instanz-Variablen* – existieren nur in Verbindung mit einem vorher instanzierten Objekt, sie werden durch die Klassendefninition festgelegt.\n",
    "\n",
    "Die Laufzeitumgebung – bzw. der Compiler – initialisiert lokale Variablen nicht automatisch mit einem Nullwert bzw. Wahrheitsvarianten nicht mit `false`. Vor dem Lesen müssen lokale Variablen von Hand initialisiert werden, andernfalls gibt der Compiler eine Fehlermeldung aus."
   ]
  },
  {
   "cell_type": "markdown",
   "metadata": {},
   "source": [
    "**5. Was ist eine Blockvariable? Wo ist sie gültig?**\n",
    "\n",
    "Sie sind Lokale Variablen, die nur innerhalb einer Block-Anweisung existieren."
   ]
  },
  {
   "cell_type": "markdown",
   "metadata": {},
   "source": [
    "**6. Legen Sie bitte in einer Methode zwei Variablen mit demselben Namen an.**"
   ]
  },
  {
   "cell_type": "markdown",
   "metadata": {},
   "source": [
    "**7. Wozu gibt es Parameter?** / **8. Gibt es für Sie den Unterschied zwischen einem Parameter und einem Argument?**\n",
    "\n",
    "Einer Methode können Werte übergeben werden, die sie dann in ihre Arbeitsweise einbeziehen kann.\n",
    "\n",
    "Der Aufrufer der Methode muss für jeden Parameter ein Argument angeben. Die im Methodenkopf deklarierten Parameter sind letztendlich lokale Variablen im Rumpf der Methode."
   ]
  },
  {
   "cell_type": "markdown",
   "metadata": {},
   "source": [
    "**9. Kann man lokale Variablen und Parameter vergleichen?**"
   ]
  },
  {
   "cell_type": "markdown",
   "metadata": {},
   "source": [
    "**10. In welchen Zeilen ist Casting überflüssig?**\n",
    "\n",
    "    static short foo(byte b) { \n",
    "        return (short) 2; // Zeile A \n",
    "    }\n",
    "\n",
    "    static void test() { \n",
    "        byte b = (byte) 2; // Zeile B\n",
    "        foo((byte) 2);     // Zeile C\n",
    "    }"
   ]
  },
  {
   "cell_type": "markdown",
   "metadata": {},
   "source": [
    "**11. Was ist Stack?**\n",
    "\n",
    "Der Name deutet an, dass die Daten hier \"aufeinander\" liegen. Damit ist gemeint, dass neue Daten immer nur oben drauf gelegt werden können. Wenn die Daten wieder freigegeben werden, werden Sie von oben nach unten wieder entfernt. Dieses Prinzip nennt sich auch LIFO (\"Last in, First out\"). Der Stack kann, bedingt durch seine Struktur, sehr effizient verwaltet werden, weshalb Stack-Operationen sehr schnell sind."
   ]
  },
  {
   "cell_type": "markdown",
   "metadata": {},
   "source": [
    "**12. Wie kann man aus einer Methode die lokale Variable einer anderen Methode auslesen?**"
   ]
  },
  {
   "cell_type": "markdown",
   "metadata": {},
   "source": [
    "**13. Was ist Überladen? Überladen Sie eine Methode mehrfach. Rufen Sie alle überladenen Methoden auf.**"
   ]
  },
  {
   "cell_type": "markdown",
   "metadata": {},
   "source": [
    "**14. Was bekommt man mit statischen Variablen? Sollen sie initialisiert werden?**"
   ]
  },
  {
   "cell_type": "markdown",
   "metadata": {},
   "source": [
    "**15. Liegen statische Variablen auf dem Stack?**"
   ]
  },
  {
   "cell_type": "markdown",
   "metadata": {},
   "source": [
    "**16. Greifen Sie in einer statischen Methode der Klasse A auf eine statische Variable der Klasse B zu.**"
   ]
  },
  {
   "cell_type": "markdown",
   "metadata": {},
   "source": [
    "**17. Was ist ein rekursiver Aufruf?**\n",
    "\n",
    "Bei der rekursiven Programmierung ruft sich eine Prozedur, Funktion oder Methode in einem Computerprogramm selbst wieder auf (d. h. enthält eine Rekursion). Auch der gegenseitige Aufruf stellt eine Rekursion dar."
   ]
  },
  {
   "cell_type": "markdown",
   "metadata": {},
   "source": [
    "**18. Führen Sie eine Test-Anwendung zum StackOverflowError**\n",
    "\n",
    "    static void down( int n ) { \n",
    "      System.out.print( n + \", \" ); \n",
    "      down( n – 1 ); \n",
    "    }\n",
    "    // EndlessRecursion"
   ]
  },
  {
   "cell_type": "code",
   "execution_count": null,
   "metadata": {},
   "outputs": [],
   "source": []
  },
  {
   "cell_type": "code",
   "execution_count": null,
   "metadata": {},
   "outputs": [],
   "source": []
  }
 ],
 "metadata": {
  "kernelspec": {
   "display_name": "Python 3",
   "language": "python",
   "name": "python3"
  },
  "language_info": {
   "codemirror_mode": {
    "name": "ipython",
    "version": 3
   },
   "file_extension": ".py",
   "mimetype": "text/x-python",
   "name": "python",
   "nbconvert_exporter": "python",
   "pygments_lexer": "ipython3",
   "version": "3.6.5"
  }
 },
 "nbformat": 4,
 "nbformat_minor": 2
}
