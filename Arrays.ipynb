{
 "cells": [
  {
   "cell_type": "markdown",
   "metadata": {},
   "source": [
    "# ARRAYS\n",
    "\n",
    "<br>\n",
    "* Make an array reference variable - **declare**\n",
    "* Make an array object - **construct**\n",
    "* Populate the array with elements - **initialize**\n",
    "\n",
    "**Collection types from `java.util`:**\n",
    "* `HashMap`\n",
    "* `ArrayList`\n",
    "* `TreeSet`"
   ]
  },
  {
   "cell_type": "code",
   "execution_count": null,
   "metadata": {},
   "outputs": [],
   "source": [
    "Thread[] threads = new Thread[5];\n",
    "// No Thread objects created! One Thread array created"
   ]
  },
  {
   "cell_type": "code",
   "execution_count": null,
   "metadata": {},
   "outputs": [],
   "source": [
    "int[] carList = new int[];\n",
    "// Will not compile; needs a size"
   ]
  },
  {
   "cell_type": "code",
   "execution_count": null,
   "metadata": {},
   "outputs": [],
   "source": [
    "int[][] myArray = new int[3][]; \n",
    "// legal, declares and constructs a two-dimensional array of type int"
   ]
  },
  {
   "cell_type": "markdown",
   "metadata": {},
   "source": [
    "***A reference that has not had an object assigned to it is a `null` reference. And if you try to use that `null` reference by applying the dot operator to invoke a method on it, you'll get `NullPointerException`.***"
   ]
  },
  {
   "cell_type": "code",
   "execution_count": null,
   "metadata": {},
   "outputs": [],
   "source": [
    "Dog puppy = new Dog(\"Frodo\");\n",
    "Dog[] myDogs = {puppy, new Dog(\"Clover\"), new Dog(\"Aiko\")};\n",
    "// legal"
   ]
  },
  {
   "cell_type": "code",
   "execution_count": null,
   "metadata": {},
   "outputs": [],
   "source": [
    "// shortcut syntax:\n",
    "int[][] scores = {{5,2,4,7},{9,2},{3,4}};"
   ]
  },
  {
   "cell_type": "markdown",
   "metadata": {},
   "source": [
    "**Constructing and Initializing an Anonymous Array:**"
   ]
  },
  {
   "cell_type": "code",
   "execution_count": null,
   "metadata": {},
   "outputs": [],
   "source": [
    "int[] testScores;\n",
    "testScores = new int[] {4,7,2};\n",
    "// legal"
   ]
  },
  {
   "cell_type": "code",
   "execution_count": null,
   "metadata": {},
   "outputs": [],
   "source": [
    "new Object[3] {null, new Object(), new Object()};\n",
    "// not legal; size must not be specified"
   ]
  },
  {
   "cell_type": "markdown",
   "metadata": {},
   "source": [
    "**Arrays of Primitives:**\n",
    "\n",
    "Primitive arrays can accept any value that can be promoted implicity to the declared type of the array."
   ]
  },
  {
   "cell_type": "code",
   "execution_count": null,
   "metadata": {},
   "outputs": [],
   "source": [
    "int[] weightList = new int[5];\n",
    "byte b = 4;\n",
    "char c = 'c';\n",
    "short s = 7;\n",
    "weightList[0] = b;  // OK, byte is smaller than int\n",
    "weightList[1] = c;  // OK, char is smaller than int\n",
    "weightList[2] = s;  // OK, short is smaller than int"
   ]
  },
  {
   "cell_type": "markdown",
   "metadata": {},
   "source": [
    "**Arrays of Object References:**\n",
    "\n",
    "* If the declared array type is a class, you can put objects of any subclass of the declared type into the array.\n",
    "* If the array is declared as an interface type, the array elements can refer to any instance of any class that implements the declared interface.\n",
    "\n",
    "    ***Any object that passes the IS-A test for the declared array type can be assigned to an element of that array.***"
   ]
  },
  {
   "cell_type": "markdown",
   "metadata": {},
   "source": [
    "**Array Reference Assignments for One-Dimensional Arrays:**"
   ]
  },
  {
   "cell_type": "code",
   "execution_count": null,
   "metadata": {},
   "outputs": [],
   "source": [
    "int[] splats;\n",
    "int[] dats = new int[4];\n",
    "char[] letters = new char[5];\n",
    "splats = dats;   // OK, dats refers to an int array\n",
    "splats = letters; // NOT OK, letters refers to a char array"
   ]
  },
  {
   "cell_type": "markdown",
   "metadata": {},
   "source": [
    "**Array Reference Assignments for Multi-Dimensional Arrays:**"
   ]
  },
  {
   "cell_type": "code",
   "execution_count": null,
   "metadata": {},
   "outputs": [],
   "source": [
    "int[] blots;\n",
    "int[][] squeegees = new int[3][];\n",
    "blots = squeegees;   // NOT OK, squeegees is a two-d array of int arrays\n",
    "\n",
    "int[] blocks = new int[6];\n",
    "blots = blocks;     // OK, blocks is an int array"
   ]
  },
  {
   "cell_type": "code",
   "execution_count": null,
   "metadata": {},
   "outputs": [],
   "source": [
    "int[][] books = new int[3][];\n",
    "int[] numbers = new int[6];\n",
    "int aNumber = 7;\n",
    "books[0] = aNumber;      // NO, expecting an int array, not an int\n",
    "books[0] = numbers;      // OK, numbers is an int array"
   ]
  }
 ],
 "metadata": {
  "kernelspec": {
   "display_name": "SciJava",
   "language": "groovy",
   "name": "scijava"
  },
  "language_info": {
   "codemirror_mode": "groovy",
   "file_extension": "",
   "mimetype": "",
   "name": "scijava",
   "nbconverter_exporter": "",
   "pygments_lexer": "groovy",
   "version": "1.0"
  }
 },
 "nbformat": 4,
 "nbformat_minor": 2
}
