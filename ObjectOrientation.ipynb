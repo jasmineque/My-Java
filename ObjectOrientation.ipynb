{
 "cells": [
  {
   "cell_type": "markdown",
   "metadata": {},
   "source": [
    "# Encapsulation\n",
    "\n",
    "<br>\n",
    "* Keep instance variables hidden (with an access modifier, often `private`)\n",
    "* Make `public` accessor methods, and force calling code to use those methods rather than directly accessing the instance variable (*getters* and *setters* or *accessors* and *mutators*)\n",
    "* For these accessor methods, use the most common naming convention of `set<SomeProperty>` and `get<SomeProperty>`."
   ]
  },
  {
   "cell_type": "markdown",
   "metadata": {},
   "source": [
    "# Inheritance and Polymorphism\n",
    "\n",
    "<br>\n",
    "\n",
    "**Inheritable Elements of Classes and Interfaces:**\n",
    "\n",
    "|Elements of Types|Classes|Interfaces|\n",
    "|---|---|---|\n",
    "|Instance variables|Yes|Not applicable|\n",
    "|Static variables|Yes|Only constants|\n",
    "|Abstract methods|Yes|Yes|\n",
    "|Instance methods|Yes|Java 8, default methods|\n",
    "|Static methods|Yes|Java 8, inherited no, accessible yes|\n",
    "|Constructors|No|Not applicable|\n",
    "|Initialization blocks|No|Not applicable|\n",
    "\n",
    "*The two most common reasons to use inheritance:*\n",
    "* to promote code reuse\n",
    "* to use polymorphism\n",
    "\n",
    "<br>\n",
    "**IS-A and HAS-A Relationships:**\n",
    "\n",
    "The IS-A relationship in Java is expressed through the keywords `extends` (for *class* inheritance) and `implements` (for *interface* implementation).\n",
    "\n",
    "HAS-A relationships are based on use, rather than inheritance. In other words, clas A HAS-A B if code in class A has a reference to an instance of class B."
   ]
  },
  {
   "cell_type": "markdown",
   "metadata": {},
   "source": [
    "# Polymorphism\n",
    "\n",
    "<br>\n",
    "Any Java object that can pass more than one IS-A test can be considered polymorphic. Other than objects of type `Object`, all Java objects are polymorphic in that they pass the IS-A test for their own type and for class `Object`.\n",
    "\n",
    "The only way to access an object is through a reference variable:\n",
    "* A reference variable can be of only one type, and once declared, that type can never be changed (although the object it references can change).\n",
    "* A reference is a variable, so it can be reassigned to other objects (unless the reference is declared `final`).\n",
    "* A reference variable's type determines the methods that can be invoked on the object the variable is referencing.\n",
    "* A reference variable can refer to any object of the same type as the declared reference, or **it can refer to any subtype of the declared type!**\n",
    "* A reference variable can be declared as a class type or an interface type. If the variable is declared as an interface type, it can reference any object of any class that implements the interface."
   ]
  },
  {
   "cell_type": "code",
   "execution_count": null,
   "metadata": {},
   "outputs": [],
   "source": [
    "class GameShape {\n",
    "    public void displayShape(){\n",
    "        System.out.println(\"displaying shape\");\n",
    "    }\n",
    "}\n",
    "\n",
    "public interface Animatable{\n",
    "    public void animate()\n",
    "}\n",
    "\n",
    "class PlayerPiece extends GameShape implements Animatable {\n",
    "    public void movePiece(){\n",
    "        System.out.println(\"moving game piece\");\n",
    "    }\n",
    "    public void animate(){\n",
    "        System.out.println(\"animating ...\");\n",
    "    }\n",
    "}"
   ]
  },
  {
   "cell_type": "markdown",
   "metadata": {},
   "source": [
    "The `PlayerPiece` passes the IS-A test for both the `GameShape` class and the `Animatable` interface. That means a `PlayerPiece` can be treated polymorphically as one of four things at any given time, depending on the declared type of the reference variable:\n",
    "* An `Object` (since any objects inherits from `Object`)\n",
    "* A `GameShape` (since `PlayerPiece` extends `GameShape`)\n",
    "* A `PlayerPiece` (since that's what it really is)\n",
    "* An `Animatable` (since `PlayerPiece` implements `Animatable`)\n",
    "\n",
    "The following are all legal declarations:"
   ]
  },
  {
   "cell_type": "code",
   "execution_count": null,
   "metadata": {},
   "outputs": [],
   "source": [
    "PlayerPiece player = new PlayerPiece();\n",
    "Object o = player;\n",
    "GameShape shape = player;\n",
    "Animatable mover = player;\n",
    "// Only one object - an instance of type PlayerPiece - but there are four different types of reference variables, \n",
    "// all referring to that one object on the heap."
   ]
  },
  {
   "cell_type": "markdown",
   "metadata": {},
   "source": [
    "***Polymorphic method invocations apply only to instance methods. Not static methods. Not variables. Only overridden instance methods are dynamically invoked based on the real object's type.***"
   ]
  },
  {
   "cell_type": "markdown",
   "metadata": {},
   "source": [
    "# Overriding/Overloading"
   ]
  },
  {
   "cell_type": "markdown",
   "metadata": {},
   "source": [
    "## Overridden Methods\n",
    "\n",
    "Any time a type inherits a method from a supertype, you have the opportunity to override the method (unless the method is marked `final`.\n",
    "\n",
    "For abstract methods inherited from a supertype, you *must* implement the method in the subtype ***unless the subtype is also abstract***. Abstract methods must be implemented by the first concrete subclass.\n",
    "\n",
    "The compiler looks only at the reference type, not the instance type:"
   ]
  },
  {
   "cell_type": "code",
   "execution_count": null,
   "metadata": {},
   "outputs": [],
   "source": [
    "Animal c = new Horse();\n",
    "c.buck();  // can't invoke buck() if Animal class doesn't have that method"
   ]
  },
  {
   "cell_type": "markdown",
   "metadata": {},
   "source": [
    "The overriding method cannot have a more restrictive access modifier than the method being overridden."
   ]
  },
  {
   "cell_type": "markdown",
   "metadata": {},
   "source": [
    "**Overriding rules:**\n",
    "\n",
    "* The argument list must exactly match that of the overridden method.\n",
    "* The return type must be the same as, or a susbtype of, the return type declared in the original overridden method in the superclass.\n",
    "* The access level can't be more restrictive than that of the overridden method.\n",
    "* The access level can be less restrictive than that of the overridden method.\n",
    "* Instance methods can be overridden only if they are inherited by the subtype. A subtype within the same package as the instance's supertype can override any supertype method that is not marked `private` or `final`. A subtype in a different package can override only those non`final` methods marked `public` or `protected` (since `protected` methods are inherited by the subtype).\n",
    "* The overriding method can throw any unchecked (runtime) exception, regardless of whether the overridden method declares the exception.\n",
    "* The overriding method must not throw checked exceptions that are new or broader than those declared by the overridden method.\n",
    "* The overriding method can throw narrower or fewer exceptions.\n",
    "* You cannot override a method marked `final`.\n",
    "* You cannot override a method marked `static`.\n",
    "* If a method can't be inherited, you cannot override it."
   ]
  },
  {
   "cell_type": "markdown",
   "metadata": {},
   "source": [
    "**Invoking a Supertype Version of an Overridden Method:** Using `super` to invoke an overridden method applies only to instance methods. (`static` methods can't be overridden.) And you can use `super` only to access a method in a type's supertype, not the supertype of the supertype.\n"
   ]
  },
  {
   "cell_type": "markdown",
   "metadata": {},
   "source": [
    "## Overloaded Methods\n",
    "\n",
    "Overloaded methods let you reuse the same method name in a class, but with different arguments (and, optionally, a different return type):\n",
    "* Overloaded methods MUST change the argument list.\n",
    "* Overloaded methods CAN change the return type.\n",
    "* Overloaded methods CAN change the access modifier.\n",
    "* Overloaded methods CAN declare new or broader checked exceptions.\n",
    "* A method can be overloaded in the *same* type or in a *subtype*.\n",
    "\n",
    "**Invoking Overloaded Methods:**\n",
    "\n",
    "***Which overridden verion of the method to call is decided at runtime based on object type, but which overloaded version of the method to call is based on the reference type of the argument passed at compile time.***\n"
   ]
  },
  {
   "cell_type": "code",
   "execution_count": null,
   "metadata": {},
   "outputs": [],
   "source": [
    "// overridden\n",
    "class Animal {\n",
    "    public void eat() throws Exception {\n",
    "        // throws an Exception\n",
    "    }\n",
    "}\n",
    "class Dog2 extends Animal {\n",
    "    public void eat() { /* no Exceptions */ }\n",
    "    public static void main (String[] args) {\n",
    "        Animal a = new Dog2();\n",
    "        Dog2 d = new Dog2();\n",
    "        d.eat();   // ok\n",
    "        a.eat();   // compiler error - unreported exception \n",
    "                   // (because of the exception declared on the Animal eat() method)\n",
    "    }\n",
    "}"
   ]
  },
  {
   "cell_type": "code",
   "execution_count": null,
   "metadata": {},
   "outputs": [],
   "source": [
    "// overloaded\n",
    "class Animal {}\n",
    "class Horse extends Animal {}\n",
    "class UseAnimals {\n",
    "    public void doStuff(Animal a) {\n",
    "        System.out.println(\"In the Animal version\");\n",
    "    }\n",
    "    public void doStuff(Horse h){\n",
    "         System.out.println(\"In the Horse version\");\n",
    "    }\n",
    "    public static void main (String[] args){\n",
    "        UseAnimals ua = new UseAnimals();\n",
    "        Animal animalObj = new Animal();\n",
    "        Horse horseObj = new Horse;\n",
    "        Animal animalRefToHorse = new Horse;\n",
    "        \n",
    "        ua.doStuff(animalObj);  \n",
    "        // In the Animal version\n",
    "        ua.doStuff(horseObj);   \n",
    "        // In the Horse version\n",
    "        ua.doStuff(animalRefToHorse);\n",
    "        // In the Animal version\n",
    "    }\n",
    "}"
   ]
  },
  {
   "cell_type": "markdown",
   "metadata": {},
   "source": [
    "**Differences between Overloaded and Overridden methods:**\n",
    "\n",
    "| |Overloaded Method|Overridden Method|\n",
    "|---|---|---|\n",
    "|Argument(s)|Must change|Must not change|\n",
    "|Return type|Can change|Can't change except for covariant returns|\n",
    "|Exceptions|Can change|Can reduce or eliminate. <br> Must not throw new or broader checked exceptions|\n",
    "|Access|Can change|Must not make more restrictive (can be less retrictive)|\n",
    "|Invocation|*Reference* type determines which overloaded version is selected. <br> Happens at compile time|*Object* type determines which method is selected. <br> Happens at runtime.|"
   ]
  },
  {
   "cell_type": "markdown",
   "metadata": {},
   "source": [
    "# Casting"
   ]
  },
  {
   "cell_type": "markdown",
   "metadata": {},
   "source": [
    "**Downcasting:**"
   ]
  },
  {
   "cell_type": "code",
   "execution_count": null,
   "metadata": {},
   "outputs": [],
   "source": [
    "if (animal instanceof Dog){\n",
    "    Dod d = (Dog) animal;   // casting the ref. var.\n",
    "    d.playDead();\n",
    "}"
   ]
  },
  {
   "cell_type": "code",
   "execution_count": null,
   "metadata": {},
   "outputs": [],
   "source": [
    "Animal animal = new Animal();\n",
    "Dog d = (Dog) animal;   // compiles but may get exception later: java.lang.ClassCastException \n",
    "                        // if animal is not instanceof Dog"
   ]
  },
  {
   "cell_type": "markdown",
   "metadata": {},
   "source": [
    "**Upcasting:** \n",
    "\n",
    "* Upcasting works implicitly.\n",
    "* If `Dog` implements `Pet` and `Pet` defines `beFriendly()`, then a `Dog` can be implicitly cast to a `Pet`, but the only `Dog` method you can invoke then is `beFriendly()`, which `Dog` was forced to implement because `Dog` implements the `Pet` interface.\n",
    "* If `Dog` implements `Pet`, then, if `Beagle` extends `Dog` but `Beage` does not declare that it implements `Pet`, `Beagle` is still a `Pet`. `Beagle` doesn't need to implement the `beFriendly` method if the `Dog` class has already taken care of that."
   ]
  },
  {
   "cell_type": "markdown",
   "metadata": {},
   "source": [
    "# Implementing an Interface"
   ]
  },
  {
   "cell_type": "markdown",
   "metadata": {},
   "source": [
    "When you implement an interface, you're agreeing to adhere to the contract defined in the interface. That means you're agreeing to provide legal implementations for every abstract method defined in the interface.\n",
    "\n",
    "Implementation classes must adhere to the same rules for method implementation as a class extending an `abstract` class. To be a legal implementation class, a nonabstract implementation class must do the following:\n",
    "* Provide concrete (nonabstract) implementations for all abstract methods from the declared interface.\n",
    "* Follow all the rules for legal overrides, such as the following:\n",
    "   * Declare no checked exceptions on implementation methods other than those declared by the interface method.\n",
    "   * Maintain the signature of the interface method, and maintain the same return type (or a subtype). (But it does not have to declare the exceptions declared in the interface method declaration.)\n",
    "   \n",
    "If the implementation class is `abstract`, it can simply pass the buck to its first concrete subclass.\n",
    "\n",
    "* A class can implement more than one interface but is not allowed to extend multiple classes.\n",
    "* An interface can itself extend another or multiple interfaces."
   ]
  },
  {
   "cell_type": "code",
   "execution_count": null,
   "metadata": {},
   "outputs": [],
   "source": [
    "public class Ball implements Bounceable, Serializable, Runnable {...}   // OK\n",
    "public interface Bounceable extends Movable {} // OK\n",
    "public class Programmer extends Employee, Geek {}    // Illegal\n",
    "public interface Bounceable extends Movable, Spherical {} // OK"
   ]
  },
  {
   "cell_type": "markdown",
   "metadata": {},
   "source": [
    "**Multiple Inheritance:**\n",
    "\n",
    "A class can implement interfaces with duplicate, concrete method signatures. But if you do want to implement both interfaces, you'll have to provide an overriding method in your class."
   ]
  },
  {
   "cell_type": "markdown",
   "metadata": {},
   "source": [
    "# Legal Return Types"
   ]
  },
  {
   "cell_type": "markdown",
   "metadata": {},
   "source": [
    "## Return Type Declarations\n",
    "\n",
    "### Return Types on Overloaded Methods\n",
    "\n",
    "Method overloading is not much more than name reuse. If you inherit a method but overload it in a subtype, you're not subject to the restrictions of verriding, which means you can declare any return type you like. However, to overload a method, you must change the argument list.\n",
    "\n",
    "### Overriding and Return Types and Covariant Returns\n",
    "\n",
    "When a subtype wants to change the method implementation of an inherited method (an override), the subtype must define a method that matches the inherited version exactly. You're allowed to change the return type in the overriding method as long as the new return type is a *subtype* of the declared return type of the overridden (superclass) method (covariant return).\n",
    "\n",
    "## Returning a Value\n",
    "* You can return `null` in a method with an object reference return type.\n",
    "* An array is a perfectly legal return type.\n",
    "* In a method with a primitive return type, you can return any value or variable that can be implicitly converted to the declared return type.\n",
    "* In a method with a primitive return type, you can return any value of variable that can be explicitly cast to the declared return type.\n",
    "* You must *not* return anything from a method with a void return type.\n",
    "* In a method with an object reference return type, you can return any object type that can be implicitly cast to the declared return type."
   ]
  },
  {
   "cell_type": "markdown",
   "metadata": {},
   "source": [
    "# Constructors and Instantiation"
   ]
  },
  {
   "cell_type": "markdown",
   "metadata": {},
   "source": [
    "## Constructor Basics\n",
    "\n",
    "Every class, including abstract classes, must have a constructor. They have no return type, and their names must exactly match the class name. Typically, constructors are used to initialize the instance variable state.\n",
    "\n",
    "It's very common (and desirable) for a class to have a no-arg constructor, regardless of how many other overloaded constructors are in the class."
   ]
  },
  {
   "cell_type": "markdown",
   "metadata": {},
   "source": [
    "## Constructor Chaining\n",
    "\n",
    "|Constructors on the call stack (Ex.)|\n",
    "|---|\n",
    "|4. Object()|\n",
    "|3. Animal() *calls* super()|\n",
    "|2. Horse() *calls* super()|\n",
    "|1. main() *calls* new Horse()|"
   ]
  },
  {
   "cell_type": "markdown",
   "metadata": {},
   "source": [
    "## Rules for Constructors\n",
    "\n",
    "* Constructors can use any access modifier, including `private`.\n",
    "* The constructor name must match the name of the class.\n",
    "* Constructors must not have a return type.\n",
    "* It's legal (but stupid) to have a method with the same name as the class, but that doesn't make it a constructor.\n",
    "* If you don't type a constructor into your class code, a default constructor will be automatically generated by the compiler.\n",
    "* The default constructor is always a no-arg constructor.\n",
    "* If you've typed in a constructor with arguments, you won't have a no-arg constructor unless you typed it in yourself.\n",
    "* Every constructor has, as its first statement, either a call to an overloaded constructor (`this()`) or a call to the superclass constructor (`super()`).\n",
    "* If you do type in a constructor, and you do not type in the call to `super()` or a call to `this()`, the compliler will insert a no-arg call to `super()` for you as the very first statement in the constructor.\n",
    "* A call to `super()` can either be a no-arg call or can include arguments passed to the super constructor.\n",
    "* A no-arg constructor is not necessarily the default constructor, although the default constructor is always a no-arg constructor.\n",
    "* You cannot make a call to an instance method or access an instance variable until after the super constructor runs.\n",
    "* Only static variables and methods can be accessed as part of the call to `super()` or `this()`.\n",
    "* Abstract classes have constructors, and those constructors are always called when a concrete subclass is instantiated.\n",
    "* Interfaces do not have constructors. Interfaces are not part of an object's inheritance tree.\n",
    "* The only way a constructor can be invoked is from within another constructor.\n"
   ]
  },
  {
   "cell_type": "markdown",
   "metadata": {},
   "source": [
    "***If the super constructor has arguments, you must type in the call to `super()`, supplying the appropriate arguments. If your superclass does not have a no-arg constructor, you must type a constructor in your class (subclass) because you need a place to put in the call to `super()` with the appropriate arguments.***\n",
    "\n",
    "***If your superclass does not have a no-arg constructor, then in your subclass you will not be able to use the default constructor supplied by the compiler.***\n",
    "\n",
    "***Constructors are never inherited. They aren't methods. They can't be overridden but can be overloaded.***"
   ]
  },
  {
   "cell_type": "markdown",
   "metadata": {},
   "source": [
    "## Overloaded Constructors\n",
    "\n",
    "Overloading a constructor means typing in multiple versions of the constructor, each having a different argument list, providing alternate ways to instantiate objects of your class.\n",
    "\n",
    "***The first line in a constructor must be a call to `super()` or a call to `this()`.***\n",
    "\n",
    "Two overloaded constructors both calling `this()` are two constructors calling each other - over and over, resulting an exception `java.lang.StackOverflowError`."
   ]
  },
  {
   "cell_type": "markdown",
   "metadata": {},
   "source": [
    "# Initialization Blocks\n",
    "\n",
    "* `init` blocks execute in the order in which they appear.\n",
    "* Static `init` blocks run once, when the class is first loaded.\n",
    "* Instance `init` blocks run every time a class instance is created.\n",
    "* Instance `init` blocks run after the constructors's call to `super()`."
   ]
  },
  {
   "cell_type": "code",
   "execution_count": null,
   "metadata": {},
   "outputs": [],
   "source": [
    "class Init{\n",
    "    Init(int x) {\n",
    "        System.out.println(\"1-arg const\");\n",
    "    }\n",
    "    Init () {\n",
    "        System.out.println(\"no-arg const\");\n",
    "    }\n",
    "    static {\n",
    "        System.out.println(\"1st static init\");\n",
    "    }\n",
    "    { System.out.println(\"1st instance init\"); }\n",
    "    { System.out.println(\"2nd instance init\"); }\n",
    "    static {\n",
    "        System.out.println(\"2nd static init\");\n",
    "    }\n",
    "    \n",
    "    public static void main(String[] args){\n",
    "        new Init();\n",
    "        new Init(7);\n",
    "    }\n",
    "}\n",
    "\n",
    "/* 1st static init\n",
    "   2nd static init\n",
    "   1st instance init\n",
    "   2nd instance init\n",
    "   no-arg const\n",
    "   1st instance init\n",
    "   2nd instance init\n",
    "   1-arg const */"
   ]
  },
  {
   "cell_type": "markdown",
   "metadata": {},
   "source": [
    "# Statics"
   ]
  },
  {
   "cell_type": "markdown",
   "metadata": {},
   "source": [
    "## Static Variables and Methods\n",
    "\n",
    "The answer to both the utility-method-always-runs-the-same-scenario and keep-a-running-total-of-instances scenario is to use the `static` modifier. Variables and methods marked `static` belong to the type, rather than to any particular instance. If there are instances, a `static` variable of a class will be shared by all instances of that class.\n",
    "\n",
    "A static method can't access a nonstatic(instance) variable or can't directly invoke a nonstatic method because there is no instance."
   ]
  },
  {
   "cell_type": "markdown",
   "metadata": {},
   "source": [
    "## Access Static Methods and Variables\n",
    "\n",
    "The way we access a `static` method (or `static` variable) is to use the dot operator on the type name, as opposed to using it on a reference to an instance.\n",
    "\n",
    "But the Java language also allows you to use an object reference variable to access a `static` member. In this case, the compiler cares only that reference variable `f` is declared as type `Frog`."
   ]
  },
  {
   "cell_type": "code",
   "execution_count": null,
   "metadata": {},
   "outputs": [],
   "source": [
    "class Frog {\n",
    "    private static int frogCount = 0;      // static variable\n",
    "    static int getCount(){                 // static getter method\n",
    "        return frogCount;\n",
    "    }\n",
    "    public Frog(){\n",
    "        frogCount += 1;\n",
    "    }\n",
    "}\n",
    "\n",
    "class TestFrog {\n",
    "    public static void main (String[] args){\n",
    "        new Frog();\n",
    "        new Frog();\n",
    "        new Frog();\n",
    "        System.out.println(\"from static \" + Frog.getCount());   // static context\n",
    "        new Frog();\n",
    "        new TestFrog().go();\n",
    "        Frog f = new Frog();\n",
    "        System.out.println(\"use ref var \" + f.getCount());      // use reference var\n",
    "    }\n",
    "    void go(){\n",
    "        System.out.println(\"from inst \" + Frog.getCount());     // instance context\n",
    "    }\n",
    "}\n",
    "\n",
    "// from static 3\n",
    "// from inst 4\n",
    "// use ref var 5"
   ]
  },
  {
   "cell_type": "markdown",
   "metadata": {},
   "source": [
    "Invoking static methods from interfaces is almost the same as invoking static methods from classes, except the \"instance variable syntax trick\" works only for *static methods in classes*.\n",
    "\n",
    "Static methods *can't be overridden*, they can be *redefined* in a subclass."
   ]
  }
 ],
 "metadata": {
  "kernelspec": {
   "display_name": "SciJava",
   "language": "groovy",
   "name": "scijava"
  },
  "language_info": {
   "codemirror_mode": "groovy",
   "file_extension": "",
   "mimetype": "",
   "name": "scijava",
   "nbconverter_exporter": "",
   "pygments_lexer": "groovy",
   "version": "1.0"
  }
 },
 "nbformat": 4,
 "nbformat_minor": 2
}
