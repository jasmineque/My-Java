{
 "cells": [
  {
   "cell_type": "markdown",
   "metadata": {},
   "source": [
    "# ARRAYLISTS AND WRAPPERS\n",
    "\n",
    "<br>\n",
    "**Important Facts:**\n",
    "* The `ArrayList` class is in the `java.util` package.\n",
    "* When you build an `ArrayList`, you have to declare what kind of objects it can contain.\n",
    "* `ArrayList` implements the `List` interface.\n",
    "* We work with the `ArrayList` through methods.\n",
    "* Indexes for `ArrayList` are zero-based.\n",
    "* We don't declare how big the `ArrayList` is when we build it.\n",
    "* We are able to add a new element to the `ArrayList` on the fly.\n",
    "* We are able to add the new element in the middle of the list.\n",
    "* The `ArrayList` maintained its order.\n",
    "* The `ArrayList` can have duplicates."
   ]
  },
  {
   "cell_type": "code",
   "execution_count": 5,
   "metadata": {},
   "outputs": [
    {
     "name": "stdout",
     "output_type": "stream",
     "text": [
      "[Oslo, Paris, Rome]\n",
      "1\n",
      "[Oslo, London, Paris, Rome]\n"
     ]
    }
   ],
   "source": [
    "import java.util.*;\n",
    "public class Cities {\n",
    "    public static void main (String[] args) {\n",
    "        List<String> c = new ArrayList<String>();\n",
    "        c.add(\"Oslo\");\n",
    "        c.add(\"Paris\");\n",
    "        c.add(\"Rome\");\n",
    "        int index = c.indexOf(\"Paris\");\n",
    "        System.out.println(c);\n",
    "        System.out.println(index);\n",
    "        c.add(index, \"London\");\n",
    "        System.out.println(c);\n",
    "    }\n",
    "}"
   ]
  },
  {
   "cell_type": "markdown",
   "metadata": {},
   "source": [
    "***`ArrayLists` hold only object references, not actual objects and not primitives. In the code `myArrayList.add(7);`, the `int` is being autoboxed (converted) into an `Integer` object and then added to the `ArrayList`.***"
   ]
  },
  {
   "cell_type": "markdown",
   "metadata": {},
   "source": [
    "### Methods in the ArrayList Class\n",
    "\n",
    "* `add(element)` Adds this element to the **end** of the `ArrayList`\n",
    "* `add(index, element` Adds this element at the index point and shifts the remaining elements back\n",
    "* `clear()` Removes all the elemnts from the `ArrayList`\n",
    "* `boolean contains(element)` Returns whether the element is in the list\n",
    "* `Object get(index)` Returns the object located at `index`\n",
    "* `int indexOf(Object)` Returns the (`int`) location of the element or `-1` if the `Object` is not found\n",
    "* `remove(index)` Removes the element at that `index` and shifts later elements toward the beginning one space\n",
    "* `remove(Object)` Removes the **first** occurence of the `Object` and shifts later elements toward the beginning one space\n",
    "* `int size()` Returns the number of elements in the `ArrayList`"
   ]
  },
  {
   "cell_type": "code",
   "execution_count": 24,
   "metadata": {},
   "outputs": [
    {
     "name": "stdout",
     "output_type": "stream",
     "text": [
      "[z, y, x]\n",
      "[b, a, c]\n",
      "get 1: a\n",
      "index of c: 2\n",
      "size: 2 contents: [b, c]\n"
     ]
    }
   ],
   "source": [
    "import java.util.*;\n",
    "public class TweakLists {\n",
    "    public static void main(String[] args){\n",
    "        List<String> myList = new ArrayList<String>();\n",
    "        myList.add(\"z\");\n",
    "        myList.add(\"x\");\n",
    "        myList.add(1, \"y\");\n",
    "        System.out.println(myList);\n",
    "        \n",
    "        myList.clear();\n",
    "        myList.add(\"b\");\n",
    "        myList.add(\"a\");\n",
    "        myList.add(\"c\");\n",
    "        System.out.println(myList);\n",
    "        \n",
    "        System.out.println(myList.contains(\"a\") + \" \" + myList.contains(\"x\"));\n",
    "        // true false\n",
    "        System.out.println(\"get 1: \" + myList.get(1));\n",
    "        System.out.println(\"index of c: \" + myList.indexOf(\"c\"));\n",
    "        \n",
    "        myList.remove(1);\n",
    "        System.out.println(\"size: \" + myList.size() + \" contents: \" + myList);\n",
    "        \n",
    "    }\n",
    "}"
   ]
  },
  {
   "cell_type": "markdown",
   "metadata": {},
   "source": [
    "## Autoboxing with ArrayLists\n",
    "\n",
    "<br>\n",
    "***In general, collections like `ArrayList` can hold objects but not primitives. Autoboxing takes care of getting primitives into and out of collections (wrap and unwrap)***"
   ]
  },
  {
   "cell_type": "code",
   "execution_count": 1,
   "metadata": {},
   "outputs": [
    {
     "name": "stdout",
     "output_type": "stream",
     "text": [
      "y = 568\n"
     ]
    }
   ],
   "source": [
    "Integer y = new Integer(567);   // make it\n",
    "int x = y.intValue();           // unwrap it\n",
    "x++;                            // use it\n",
    "y = new Integer(x);             // rewrap it\n",
    "System.out.println(\"y = \" + y); // print it"
   ]
  },
  {
   "cell_type": "code",
   "execution_count": 2,
   "metadata": {},
   "outputs": [
    {
     "name": "stdout",
     "output_type": "stream",
     "text": [
      "y = 568\n"
     ]
    }
   ],
   "source": [
    "Integer y = new Integer(567);   // make it\n",
    "y++;                            // unwrap it, increment it, rewrap it (autoboxing)\n",
    "System.out.println(\"y = \" + y); // print it"
   ]
  },
  {
   "cell_type": "markdown",
   "metadata": {},
   "source": [
    "***All the wrapper classes except `Character` provide two constructors: one takes a primitive of the type being constructed, and the other takes a `String` representation of the tyte being constructed.***"
   ]
  },
  {
   "cell_type": "code",
   "execution_count": null,
   "metadata": {},
   "outputs": [],
   "source": [
    "Integer y = new Integer(42);\n",
    "Integer y = new Integer(\"42\");\n",
    "// both valid to construct a new Integer object that wraps the value 42"
   ]
  },
  {
   "cell_type": "markdown",
   "metadata": {},
   "source": [
    "### `Boxing`, `==`, and `equals()`"
   ]
  },
  {
   "cell_type": "code",
   "execution_count": 4,
   "metadata": {},
   "outputs": [],
   "source": [
    "Integer i1 = 1000;\n",
    "Integer i2 = 1000;\n",
    "\n",
    "if (i1 != i2) System.out.println(\"different objects\");\n",
    "// different objects\n",
    "if (i1.equals(i2)) System.out.println(\"meaningfully equal\");\n",
    "// meaningfully equal"
   ]
  },
  {
   "cell_type": "code",
   "execution_count": 5,
   "metadata": {},
   "outputs": [
    {
     "name": "stdout",
     "output_type": "stream",
     "text": [
      "same objects\n",
      "meaningfully equal\n"
     ]
    }
   ],
   "source": [
    "Integer i3 = 10;\n",
    "Integer i4 = 10;\n",
    "\n",
    "if (i3 == i4) System.out.println(\"same objects\");\n",
    "if (i3.equals(i4)) System.out.println(\"meaningfully equal\");"
   ]
  },
  {
   "cell_type": "markdown",
   "metadata": {},
   "source": [
    "***In order to save memory, two instances of the following wrapper objects (created through boxing) will always be `==` when their primitive values are the same:***\n",
    "* `Boolean`\n",
    "* `Byte`\n",
    "* `Character` from `\\u000` to `\\u007f` (127 decimal)\n",
    "* `Short` and `Integer` from -128 to 127\n",
    "\n",
    "***When `==` is used to compare a primitive to a wrapper, the wrapper will be unwrapped and the comparison will be primitive to primitive.***"
   ]
  },
  {
   "cell_type": "markdown",
   "metadata": {},
   "source": [
    "**The Java 7 \"Diamond\" Syntax:**"
   ]
  },
  {
   "cell_type": "code",
   "execution_count": null,
   "metadata": {},
   "outputs": [],
   "source": [
    "ArrayList<String> stuff = new ArrayList<>();\n",
    "// legal\n",
    "ArrayList<> stuff = new ArrayList<>(String);\n",
    "// not legal"
   ]
  }
 ],
 "metadata": {
  "kernelspec": {
   "display_name": "SciJava",
   "language": "groovy",
   "name": "scijava"
  },
  "language_info": {
   "codemirror_mode": "groovy",
   "file_extension": "",
   "mimetype": "",
   "name": "scijava",
   "nbconverter_exporter": "",
   "pygments_lexer": "groovy",
   "version": "1.0"
  }
 },
 "nbformat": 4,
 "nbformat_minor": 2
}
