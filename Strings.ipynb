{
 "cells": [
  {
   "cell_type": "markdown",
   "metadata": {},
   "source": [
    "# Methods in the String Class"
   ]
  },
  {
   "cell_type": "markdown",
   "metadata": {},
   "source": [
    "### `public char charAt(int index)`"
   ]
  },
  {
   "cell_type": "code",
   "execution_count": 4,
   "metadata": {},
   "outputs": [
    {
     "name": "stdout",
     "output_type": "stream",
     "text": [
      "r\n"
     ]
    }
   ],
   "source": [
    "String x = \"airplane\";\n",
    "System.out.println(x.charAt(2));"
   ]
  },
  {
   "cell_type": "markdown",
   "metadata": {},
   "source": [
    "### `public String concat(String s)`"
   ]
  },
  {
   "cell_type": "code",
   "execution_count": 5,
   "metadata": {},
   "outputs": [
    {
     "name": "stdout",
     "output_type": "stream",
     "text": [
      "taxi cab\n"
     ]
    }
   ],
   "source": [
    "String x = \"taxi\";\n",
    "System.out.println(x.concat(\" cab\"))                 // x is not changed: x = \"taxi\""
   ]
  },
  {
   "cell_type": "code",
   "execution_count": 7,
   "metadata": {},
   "outputs": [
    {
     "name": "stdout",
     "output_type": "stream",
     "text": [
      "Atlantic ocean\n"
     ]
    }
   ],
   "source": [
    "String x = \"Atlantic\";\n",
    "x += \" ocean\";                                     // += is an assignment operator\n",
    "System.out.println(x);                             // x is changed"
   ]
  },
  {
   "cell_type": "markdown",
   "metadata": {},
   "source": [
    "### `public boolean equalsIgnoreCase(String s)`"
   ]
  },
  {
   "cell_type": "code",
   "execution_count": 8,
   "metadata": {},
   "outputs": [
    {
     "name": "stdout",
     "output_type": "stream",
     "text": [
      "true\n",
      "false\n"
     ]
    }
   ],
   "source": [
    "String x = \"Exit\";\n",
    "System.out.println(x.equalsIgnoreCase(\"EXIT\"));\n",
    "System.out.println(x.equalsIgnoreCase(\"tixe\"));"
   ]
  },
  {
   "cell_type": "markdown",
   "metadata": {},
   "source": [
    "### `public int length()`"
   ]
  },
  {
   "cell_type": "code",
   "execution_count": 10,
   "metadata": {},
   "outputs": [
    {
     "name": "stdout",
     "output_type": "stream",
     "text": [
      "8\n"
     ]
    }
   ],
   "source": [
    "String x = \"01234567\";\n",
    "System.out.println(x.length());            "
   ]
  },
  {
   "cell_type": "code",
   "execution_count": 12,
   "metadata": {},
   "outputs": [
    {
     "name": "stdout",
     "output_type": "stream",
     "text": [
      "3\n"
     ]
    }
   ],
   "source": [
    "// Arrays have an attribute called length\n",
    "String[] x = new String[3];\n",
    "System.out.println(x.length);"
   ]
  },
  {
   "cell_type": "markdown",
   "metadata": {},
   "source": [
    "### `public String replace(char old, char new)`"
   ]
  },
  {
   "cell_type": "code",
   "execution_count": 14,
   "metadata": {},
   "outputs": [
    {
     "name": "stdout",
     "output_type": "stream",
     "text": [
      "oXoXoXoX\n",
      "oxoxoxox\n"
     ]
    }
   ],
   "source": [
    "String x = \"oxoxoxox\";\n",
    "System.out.println(x.replace('x', 'X'));\n",
    "System.out.println(x);"
   ]
  },
  {
   "cell_type": "markdown",
   "metadata": {},
   "source": [
    "### `public String substring(int begin)` and `public String substring(int begin, int end)`"
   ]
  },
  {
   "cell_type": "code",
   "execution_count": 15,
   "metadata": {},
   "outputs": [
    {
     "name": "stdout",
     "output_type": "stream",
     "text": [
      "56789\n",
      "567\n"
     ]
    }
   ],
   "source": [
    "String x = \"0123456789\";\n",
    "System.out.println(x.substring(5));\n",
    "System.out.println(x.substring(5,8));"
   ]
  },
  {
   "cell_type": "markdown",
   "metadata": {},
   "source": [
    "### `public String toLowerCase()` "
   ]
  },
  {
   "cell_type": "code",
   "execution_count": 16,
   "metadata": {},
   "outputs": [
    {
     "name": "stdout",
     "output_type": "stream",
     "text": [
      "a new moon\n"
     ]
    }
   ],
   "source": [
    "String x = \"A New Moon\";\n",
    "System.out.println(x.toLowerCase());"
   ]
  },
  {
   "cell_type": "markdown",
   "metadata": {},
   "source": [
    "### `public String toString()`"
   ]
  },
  {
   "cell_type": "code",
   "execution_count": 17,
   "metadata": {},
   "outputs": [
    {
     "name": "stdout",
     "output_type": "stream",
     "text": [
      "big suprise\n"
     ]
    }
   ],
   "source": [
    "String x = \"big suprise\";\n",
    "System.out.println(x.toString());"
   ]
  },
  {
   "cell_type": "markdown",
   "metadata": {},
   "source": [
    "### `public String toUpperCase()`"
   ]
  },
  {
   "cell_type": "code",
   "execution_count": 19,
   "metadata": {},
   "outputs": [
    {
     "name": "stdout",
     "output_type": "stream",
     "text": [
      "A NEW MOON\n"
     ]
    }
   ],
   "source": [
    "String x = \"A New Moon\";\n",
    "System.out.println(x.toUpperCase());"
   ]
  },
  {
   "cell_type": "markdown",
   "metadata": {},
   "source": [
    "### `public String trim()`"
   ]
  },
  {
   "cell_type": "code",
   "execution_count": 20,
   "metadata": {},
   "outputs": [
    {
     "name": "stdout",
     "output_type": "stream",
     "text": [
      "   hi   t\n",
      "hit\n"
     ]
    }
   ],
   "source": [
    "String x = \"   hi   \";\n",
    "System.out.println(x + \"t\");\n",
    "System.out.println(x.trim() + \"t\");          // all leading and trailing whitespaces are removed"
   ]
  },
  {
   "cell_type": "markdown",
   "metadata": {},
   "source": [
    "### `contains, startsWith, endsWith, indexOf, lastIndexOf`"
   ]
  },
  {
   "cell_type": "code",
   "execution_count": null,
   "metadata": {},
   "outputs": [],
   "source": [
    "String text = \"Initializes a newly created String object so that it\"\n",
    "            + \" represents the same sequence of characters as the argument;\"\n",
    "            + \" in other words, the newly created string is a copy of the \"\n",
    "            + \"argument string. Unless an explicit copy of original is needed, \"\n",
    "            + \"use of this constructor is unnecessary since Strings are immutable.\";\n",
    "\n",
    "System.out.print(\"text.contains(\\\"Initializes\\\"): \");\n",
    "System.out.println(text.contains(\"Initializes\"));\n",
    "// text.contains(\"Initializes\"): true\n",
    "\n",
    "System.out.print(\"text.startsWith(\\\"Initializes\\\"): \");\n",
    "System.out.println(text.startsWith(\"Initializes\"));\n",
    "// text.startsWith(\"Initializes\"): true\n",
    "\n",
    "System.out.print(\"text.endsWith(\\\"Initializes\\\"): \");\n",
    "System.out.println(text.endsWith(\"Initializes\"));\n",
    "System.out.print(\"text.endsWith(\\\"immutable.\\\"): \");\n",
    "System.out.println(text.endsWith(\"immutable.\"));\n",
    "// text.endsWith(\"Initializes\"): false\n",
    "// text.endsWith(\"immutable.\"): true\n",
    "\n",
    "System.out.print(\"text.indexOf(\\\"immutable.\\\")\");\n",
    "System.out.println(text.indexOf(\"immutable.\"));\n",
    "System.out.println(text.length());\n",
    "System.out.print(\"text.indexOf('c')\");\n",
    "System.out.println(text.indexOf('c'));\n",
    "// text.indexOf(\"immutable.\")292\n",
    "// 302\n",
    "// text.indexOf('c')20\n",
    "\n",
    "System.out.print(\"text.lastIndexOf(' ')\");\n",
    "System.out.println(text.lastIndexOf(' '));\n",
    "// text.lastIndexOf(' ')291"
   ]
  },
  {
   "cell_type": "markdown",
   "metadata": {},
   "source": [
    "# The `StringBuilder` Class"
   ]
  },
  {
   "cell_type": "code",
   "execution_count": 2,
   "metadata": {},
   "outputs": [
    {
     "name": "stdout",
     "output_type": "stream",
     "text": [
      "abcdef\n"
     ]
    }
   ],
   "source": [
    "import java.lang.StringBuilder;\n",
    "StringBuilder sb = new StringBuilder(\"abc\");\n",
    "sb.append(\"def\");\n",
    "System.out.println(sb);"
   ]
  },
  {
   "cell_type": "code",
   "execution_count": 7,
   "metadata": {},
   "outputs": [
    {
     "name": "stdout",
     "output_type": "stream",
     "text": [
      "fed---cba\n"
     ]
    }
   ],
   "source": [
    "StringBuilder sb = new StringBuilder(\"abc\");\n",
    "sb.append(\"def\").reverse().insert(3, \"---\");\n",
    "System.out.println(sb);"
   ]
  },
  {
   "cell_type": "markdown",
   "metadata": {},
   "source": [
    "**Three ways to create a new `StringBuilder`:**\n",
    "\n",
    "    new StringBuilder();            // default capacity = 16 chars\n",
    "    new StringBuilder(\"ab\");        // cap. = 16 + arg's length\n",
    "    new StringBuilder(x);           // cap. = x (an integer)\n",
    "\n",
    "* If an `append()` grows a `StringBuilder` past its capacity, the capacity is updated automatically.\n",
    "* If an `insert()` starts within a `StringBuilder`'s capacity but ends after the current capacity, the capacity is updated automatically\n",
    "* If an `insert()` attempts to start at an index after the `StringBuilder`'s current length, an exception will be thrown"
   ]
  },
  {
   "cell_type": "markdown",
   "metadata": {},
   "source": [
    "### `public StringBuilder append(String s)`"
   ]
  },
  {
   "cell_type": "code",
   "execution_count": 8,
   "metadata": {},
   "outputs": [
    {
     "name": "stdout",
     "output_type": "stream",
     "text": [
      "pi = 3.14159\n"
     ]
    }
   ],
   "source": [
    "StringBuilder sb = new StringBuilder(\"pi = \");\n",
    "sb.append(3.14159f);\n",
    "System.out.println(sb);"
   ]
  },
  {
   "cell_type": "markdown",
   "metadata": {},
   "source": [
    "### `public StringBuilder delete(int start, int end)`"
   ]
  },
  {
   "cell_type": "code",
   "execution_count": 9,
   "metadata": {},
   "outputs": [
    {
     "name": "stdout",
     "output_type": "stream",
     "text": [
      "01236789\n"
     ]
    }
   ],
   "source": [
    "StringBuilder sb = new StringBuilder(\"0123456789\");\n",
    "System.out.println(sb.delete(4,6));"
   ]
  },
  {
   "cell_type": "markdown",
   "metadata": {},
   "source": [
    "### `public StringBuilder insert(int offset, String s)`"
   ]
  },
  {
   "cell_type": "code",
   "execution_count": 10,
   "metadata": {},
   "outputs": [
    {
     "name": "stdout",
     "output_type": "stream",
     "text": [
      "0123---4567\n"
     ]
    }
   ],
   "source": [
    "StringBuilder sb = new StringBuilder(\"01234567\");\n",
    "sb.insert(4, \"---\");\n",
    "System.out.println(sb);"
   ]
  },
  {
   "cell_type": "markdown",
   "metadata": {},
   "source": [
    "### `public StringBuilder reverse()`"
   ]
  },
  {
   "cell_type": "code",
   "execution_count": 11,
   "metadata": {},
   "outputs": [
    {
     "name": "stdout",
     "output_type": "stream",
     "text": [
      "amanaP lanac a nalp a nam A\n"
     ]
    }
   ],
   "source": [
    "StringBuilder sb = new StringBuilder(\"A man a plan a canal Panama\");\n",
    "sb.reverse();\n",
    "System.out.println(sb);"
   ]
  },
  {
   "cell_type": "markdown",
   "metadata": {},
   "source": [
    "### `public StringBuilder toString()`"
   ]
  },
  {
   "cell_type": "code",
   "execution_count": 12,
   "metadata": {},
   "outputs": [
    {
     "name": "stdout",
     "output_type": "stream",
     "text": [
      "test string\n"
     ]
    }
   ],
   "source": [
    "StringBuilder sb = new StringBuilder(\"test string\");\n",
    "System.out.println(sb.toString());"
   ]
  },
  {
   "cell_type": "markdown",
   "metadata": {},
   "source": [
    "### **Chained method:**"
   ]
  },
  {
   "cell_type": "code",
   "execution_count": 13,
   "metadata": {},
   "outputs": [
    {
     "name": "stdout",
     "output_type": "stream",
     "text": [
      "y = ABxDEF\n"
     ]
    }
   ],
   "source": [
    "String x = \"abc\";\n",
    "String y = x.concat(\"def\").toUpperCase().replace('C','x');\n",
    "System.out.println(\"y = \" + y);"
   ]
  }
 ],
 "metadata": {
  "kernelspec": {
   "display_name": "SciJava",
   "language": "groovy",
   "name": "scijava"
  },
  "language_info": {
   "codemirror_mode": "groovy",
   "file_extension": "",
   "mimetype": "",
   "name": "scijava",
   "nbconverter_exporter": "",
   "pygments_lexer": "groovy",
   "version": "1.0"
  }
 },
 "nbformat": 4,
 "nbformat_minor": 2
}
